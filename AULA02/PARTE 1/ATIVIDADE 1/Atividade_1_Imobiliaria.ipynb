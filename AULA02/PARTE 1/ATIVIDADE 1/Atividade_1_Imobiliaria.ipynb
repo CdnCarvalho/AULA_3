{
  "nbformat": 4,
  "nbformat_minor": 0,
  "metadata": {
    "colab": {
      "provenance": []
    },
    "kernelspec": {
      "name": "python3",
      "display_name": "Python 3"
    },
    "language_info": {
      "name": "python"
    }
  },
  "cells": [
    {
      "cell_type": "markdown",
      "source": [
        "## Atividade 1\n",
        "import numpy as np\n",
        "\n",
        "vendas = [150000, 180000, 200000, 220000, 250000, 280000, 300000, 320000, 400000, 1500000]\n",
        "\n",
        "Lista de vendas transformada em um Array NumPy\n",
        "\n",
        "vendas = np.array([150000, 180000, 200000, 220000, 250000, 280000, 300000, 320000, 400000, 1500000])\n",
        "\n",
        "media = np.mean(vendas)\n",
        "\n",
        "mediana = np.median(vendas)\n",
        "\n",
        "print(f\"Média de vendas: R$ {media:,.2f}\")\n",
        "\n",
        "print(f\"Mediana de vendas: R$ {mediana:,.2f}\")"
      ],
      "metadata": {
        "id": "N-JQHSi1hECU"
      }
    },
    {
      "cell_type": "code",
      "execution_count": null,
      "metadata": {
        "id": "w4C-AyDUhASP"
      },
      "outputs": [],
      "source": [
        "import numpy  as np\n",
        "vendas = [150000, 180000, 200000, 220000, 250000, 280000, 300000, 320000, 400000, 1500000]\n",
        "\n",
        "media = np.mean(vendas)\n",
        "mediana = np.median(vendas)\n",
        "\n",
        "print(f\"Média de vendas: R$ {media:,.2f}\")\n",
        "print(f\"Mediana de vendas: R$ {mediana:,.2f}\")"
      ]
    }
  ]
}