{
  "nbformat": 4,
  "nbformat_minor": 0,
  "metadata": {
    "colab": {
      "provenance": []
    },
    "kernelspec": {
      "name": "python3",
      "display_name": "Python 3"
    },
    "language_info": {
      "name": "python"
    }
  },
  "cells": [
    {
      "cell_type": "markdown",
      "source": [
        "import numpy as np\n",
        "dados_salario = [2000, 2500, 3000, 3500, 4000, 30000]\n",
        "\n",
        "media = np.mean(dados_salario)\n",
        "\n",
        "mediana = np.median(dados_salario)\n",
        "\n",
        "print('Média: ', media)\n",
        "\n",
        "print('Mediana: ', mediana)"
      ],
      "metadata": {
        "id": "vCi48Ei-cwBS"
      }
    },
    {
      "cell_type": "code",
      "execution_count": null,
      "metadata": {
        "id": "t1TE7SieTWR7"
      },
      "outputs": [],
      "source": [
        "import numpy as np\n",
        "dados_salario = [2000, 2500, 3000, 3500, 4000, 30000]\n",
        "\n",
        "media = np.mean(dados_salario)\n",
        "mediana = np.median(dados_salario)\n",
        "print('Média: ', media)\n",
        "print('Mediana: ', mediana)"
      ]
    },
    {
      "cell_type": "code",
      "source": [
        "import numpy as np\n",
        "dados_salario = [2000, 2500, 3000, 3500, 4000, 30000]\n",
        "\n",
        "media = np.mean(dados_salario)\n",
        "print('Média: ', media)"
      ],
      "metadata": {
        "id": "fBrxulznaVcm"
      },
      "execution_count": null,
      "outputs": []
    },
    {
      "cell_type": "code",
      "source": [
        "import numpy as np\n",
        "dados_salario = [2000, 2500, 3000, 3500, 4000, 30000]\n",
        "\n",
        "mediana = np.median(dados_salario)\n",
        "print('Mediana: ', mediana)"
      ],
      "metadata": {
        "id": "hZF9cuAIaX0i"
      },
      "execution_count": null,
      "outputs": []
    }
  ]
}