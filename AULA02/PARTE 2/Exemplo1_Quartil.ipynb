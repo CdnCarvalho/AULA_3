{
  "cells": [
    {
      "cell_type": "markdown",
      "metadata": {
        "id": "zSj-UtqXOYdo"
      },
      "source": [
        "##Exemplo 1 (Quartil)"
      ]
    },
    {
      "cell_type": "markdown",
      "metadata": {
        "id": "VoA_lHaKNt6h"
      },
      "source": [
        "import numpy as np\n",
        "dados = np.array([12, 15, 17, 20, 22, 25, 28, 30, 35, 40])\n",
        "\n",
        "q1 = np.percentile(dados, 25)\n",
        "\n",
        "q2 = np.percentile(dados, 50)\n",
        "\n",
        "q3 = np.percentile(dados, 75)\n",
        "\n",
        "print(\"Q1:\", q1)\n",
        "print(\"Q2:\", q2)\n",
        "print(\"Q3:\", q3)"
      ]
    },
    {
      "cell_type": "code",
      "execution_count": null,
      "metadata": {
        "colab": {
          "base_uri": "https://localhost:8080/"
        },
        "id": "bTz0M0-9Mt9t",
        "outputId": "4ce7fb2c-901d-46e4-ba22-d2c865165cf7"
      },
      "outputs": [],
      "source": [
        "import numpy as np\n",
        "dados = np.array([12, 15, 17, 20, 22, 25, 28, 30, 35, 40])\n",
        "\n",
        "q1 = np.percentile(dados, 25)\n",
        "q2 = np.percentile(dados, 50)\n",
        "q3 = np.percentile(dados, 75)\n",
        "\n",
        "print(\"Q1:\", q1)\n",
        "print(\"Q2:\", q2)\n",
        "print(\"Q3:\", q3)"
      ]
    }
  ],
  "metadata": {
    "colab": {
      "provenance": []
    },
    "kernelspec": {
      "display_name": "Python 3",
      "name": "python3"
    },
    "language_info": {
      "name": "python"
    }
  },
  "nbformat": 4,
  "nbformat_minor": 0
}
