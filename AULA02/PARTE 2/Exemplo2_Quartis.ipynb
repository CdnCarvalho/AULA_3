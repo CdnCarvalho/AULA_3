{
  "nbformat": 4,
  "nbformat_minor": 0,
  "metadata": {
    "colab": {
      "provenance": []
    },
    "kernelspec": {
      "name": "python3",
      "display_name": "Python 3"
    },
    "language_info": {
      "name": "python"
    }
  },
  "cells": [
    {
      "cell_type": "markdown",
      "source": [
        "import pandas as pd\n",
        "import numpy as np\n",
        "\n",
        "df = pd.read_excel('vendas_roupas1.xlsx')\n",
        "\n",
        "print(df)"
      ],
      "metadata": {
        "id": "ztQZB9VI1xCr"
      }
    },
    {
      "cell_type": "code",
      "execution_count": null,
      "metadata": {
        "id": "5kDqaNeajFPb"
      },
      "outputs": [],
      "source": [
        "import pandas as pd\n",
        "import numpy as np\n",
        "df = pd.read_excel('vendas_roupas1.xlsx')\n",
        "print(df)"
      ]
    },
    {
      "cell_type": "markdown",
      "source": [
        "categoria = df['Categoria']\n",
        "\n",
        "quantidade_vendida = df['Quantidade Vendida']\n",
        "\n",
        "print(quantidade_vendida)\n",
        "\n",
        "print(categoria)"
      ],
      "metadata": {
        "id": "2ByUOJmA2D3b"
      }
    },
    {
      "cell_type": "code",
      "source": [
        "categoria = df['Categoria']\n",
        "quantidade_vendida = df['Quantidade Vendida']\n",
        "print(quantidade_vendida)\n",
        "print(categoria)"
      ],
      "metadata": {
        "id": "xeJKaSdGnaN4"
      },
      "execution_count": null,
      "outputs": []
    },
    {
      "cell_type": "markdown",
      "source": [
        "q1 = np.quantile(quantidade_vendida, 0.25)\n",
        "\n",
        "q2 = np.quantile(quantidade_vendida, 0.50)\n",
        "\n",
        "q3 = np.quantile(quantidade_vendida, 0.75)\n",
        "\n",
        "print(f'1º Quartil (Q1): {q1}')\n",
        "\n",
        "print(f'2º Quartil (Q2): {q2}')\n",
        "\n",
        "print(f'3º Quartil (Q3): {q3}')"
      ],
      "metadata": {
        "id": "_GHzwUhr2K2J"
      }
    },
    {
      "cell_type": "code",
      "source": [
        "q1 = np.quantile(quantidade_vendida, 0.25)\n",
        "q2 = np.quantile(quantidade_vendida, 0.50)\n",
        "q3 = np.quantile(quantidade_vendida, 0.75)\n",
        "\n",
        "print(f'1º Quartil (Q1): {q1}')\n",
        "print(f'2º Quartil (Q2): {q2}')\n",
        "print(f'3º Quartil (Q3): {q3}')"
      ],
      "metadata": {
        "id": "m_-HLuhdsPJ3"
      },
      "execution_count": null,
      "outputs": []
    },
    {
      "cell_type": "markdown",
      "source": [
        "media = np.mean(quantidade_vendida)\n",
        "\n",
        "mediana = np.median(quantidade_vendida)\n",
        "\n",
        "print(f'Média: {media}')\n",
        "\n",
        "print(f'Mediana: {mediana}')Texto em itálico"
      ],
      "metadata": {
        "id": "aPFQguKY2P9h"
      }
    },
    {
      "cell_type": "code",
      "source": [
        "media = np.mean(quantidade_vendida)\n",
        "mediana = np.median(quantidade_vendida)\n",
        "\n",
        "print(f'Média: {media}')\n",
        "print(f'Mediana: {mediana}')"
      ],
      "metadata": {
        "id": "XRbGIuuttpLP"
      },
      "execution_count": null,
      "outputs": []
    },
    {
      "cell_type": "markdown",
      "source": [
        "describe e unique"
      ],
      "metadata": {
        "id": "meWvOPA6ZQua"
      }
    },
    {
      "cell_type": "code",
      "source": [
        "print(quantidade_vendida)\n",
        "print(categoria)"
      ],
      "metadata": {
        "id": "nvwCYozQZOdQ"
      },
      "execution_count": null,
      "outputs": []
    },
    {
      "cell_type": "markdown",
      "source": [
        "Ordenação\n",
        "\n",
        "media = np.mean(quantidade_vendida)\n",
        "\n",
        "mediana = np.median(quantidade_vendida)\n",
        "\n",
        "print(f'Média: {media}')\n",
        "\n",
        "print(f'Mediana: {mediana}')"
      ],
      "metadata": {
        "id": "ekstpH3m2dAJ"
      }
    },
    {
      "cell_type": "code",
      "source": [
        "quantidadevdd_organizada = df.sort_values(by='Quantidade Vendida', ascending=True)\n",
        "quantidade_vedida = quantidadevdd_organizada['Quantidade Vendida']\n",
        "print(quantidade_vedida.values)"
      ],
      "metadata": {
        "id": "75jYWqW4uMp3",
        "colab": {
          "base_uri": "https://localhost:8080/"
        },
        "outputId": "fb34b0b1-2902-4368-853a-1f78121c6bf6"
      },
      "execution_count": 15,
      "outputs": [
        {
          "output_type": "stream",
          "name": "stdout",
          "text": [
            "[ 10  15  20  25  25  25  30  30  40  40  50  60  60  60  70  80  90 100\n",
            " 100 200]\n"
          ]
        }
      ]
    },
    {
      "cell_type": "code",
      "source": [
        "import pandas as pd\n",
        "import numpy as np\n",
        "df = pd.read_excel('vendas_roupas1.xlsx')\n",
        "print(df)\n",
        "\n",
        "categoria = df['Categoria']\n",
        "quantidade_vendida = df['Quantidade Vendida']\n",
        "print(quantidade_vendida)\n",
        "print(categoria)\n",
        "\n",
        "categoria = df['Categoria']\n",
        "quantidade_vendida = df['Quantidade Vendida']\n",
        "print(quantidade_vendida)\n",
        "print(categoria)\n",
        "\n",
        "media = np.mean(quantidade_vendida)\n",
        "mediana = np.median(quantidade_vendida)\n",
        "\n",
        "print(f'Média: {media}')\n",
        "print(f'Mediana: {mediana}')\n",
        "\n",
        "print(quantidade_vendida)\n",
        "print(categoria)\n",
        "\n",
        "quantidadevdd_organizada = df.sort_values(by='Quantidade Vendida', ascending=True)\n",
        "quantidade_vedida = quantidadevdd_organizada['Quantidade Vendida']\n",
        "print(quantidade_vedida.values)"
      ],
      "metadata": {
        "id": "LVFWVEDLak0C"
      },
      "execution_count": null,
      "outputs": []
    }
  ]
}